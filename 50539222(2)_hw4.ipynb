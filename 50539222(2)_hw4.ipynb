import pandas as pd
import matplotlib.pyplot as plt
file_path = "scatter_data.csv"
data = []

with open(file_path, 'r') as file:
    for line in file:
        if not line.startswith('%'):

            values = line.strip().split(',')
            if len(values) == 2:
                x, y = values
                data.append([float(x), float(y)])
file_read = pd.DataFrame(data, columns=['x-coordinate', 'y-coordinate'])
file_read
x_data = file_read['x-coordinate']
y_data = file_read['y-coordinate']

# Create the plot
plt.figure(figsize=(10, 6))
plt.plot(x_data, y_data, 'g^', label='Data Points (Green Triangles)')
plt.plot([min(x_data), max(x_data)], [min(y_data), max(y_data)], 'r--', label='Red Dashed Line')
plt.title('Scatter Plot with Line')
plt.xlabel('X-Axis')
plt.ylabel('Y-Axis')
plt.legend()

# Show the plot
plt.grid(True)
plt.show()
